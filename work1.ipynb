{
  "nbformat": 4,
  "nbformat_minor": 0,
  "metadata": {
    "colab": {
      "provenance": [],
      "authorship_tag": "ABX9TyPVXiAV8/WltSsWj8EFFWYM",
      "include_colab_link": true
    },
    "kernelspec": {
      "name": "python3",
      "display_name": "Python 3"
    },
    "language_info": {
      "name": "python"
    }
  },
  "cells": [
    {
      "cell_type": "markdown",
      "metadata": {
        "id": "view-in-github",
        "colab_type": "text"
      },
      "source": [
        "<a href=\"https://colab.research.google.com/github/isemotoshota/Prog2kakushin/blob/main/work1.ipynb\" target=\"_parent\"><img src=\"https://colab.research.google.com/assets/colab-badge.svg\" alt=\"Open In Colab\"/></a>"
      ]
    },
    {
      "cell_type": "markdown",
      "source": [
        "pandasを使ったプログラムの作成\n",
        "広島県の犯罪にまつわることをpandasを使って色々調べようという予定"
      ],
      "metadata": {
        "id": "jmOU-s_ArjcU"
      }
    },
    {
      "cell_type": "code",
      "source": [],
      "metadata": {
        "id": "jqLraSCQruBK"
      },
      "execution_count": null,
      "outputs": []
    }
  ]
}