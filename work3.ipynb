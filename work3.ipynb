{
  "nbformat": 4,
  "nbformat_minor": 0,
  "metadata": {
    "colab": {
      "provenance": [],
      "authorship_tag": "ABX9TyMhFo/jAOVYSP3kPQEvs2/x",
      "include_colab_link": true
    },
    "kernelspec": {
      "name": "python3",
      "display_name": "Python 3"
    },
    "language_info": {
      "name": "python"
    }
  },
  "cells": [
    {
      "cell_type": "markdown",
      "metadata": {
        "id": "view-in-github",
        "colab_type": "text"
      },
      "source": [
        "<a href=\"https://colab.research.google.com/github/isemotoshota/Prog2kakushin/blob/main/work3.ipynb\" target=\"_parent\"><img src=\"https://colab.research.google.com/assets/colab-badge.svg\" alt=\"Open In Colab\"/></a>"
      ]
    },
    {
      "cell_type": "markdown",
      "source": [
        "turtle,opencvを使ったプログラムの作成\n",
        "オセロのようなボードゲームを作る予定"
      ],
      "metadata": {
        "id": "kMbTL2GhsNmO"
      }
    },
    {
      "cell_type": "code",
      "source": [],
      "metadata": {
        "id": "d50ea2-wsNxn"
      },
      "execution_count": null,
      "outputs": []
    }
  ]
}